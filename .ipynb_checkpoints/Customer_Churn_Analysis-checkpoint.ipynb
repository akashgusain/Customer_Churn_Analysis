{
 "cells": [
  {
   "cell_type": "code",
   "execution_count": null,
   "metadata": {
    "collapsed": true,
    "pycharm": {
     "is_executing": true
    }
   },
   "outputs": [
    {
     "data": {
      "text/plain": [
       "<AxesSubplot:ylabel='Count'>"
      ]
     },
     "execution_count": 2,
     "metadata": {},
     "output_type": "execute_result"
    }
   ],
   "source": [
    "import pandas as pd\n",
    "import seaborn as sns\n",
    "customer_attrition_status = pd.read_csv('Customer Data/Customer Attrition Status.csv')\n",
    "customer_demographics = pd.read_csv('Customer Data/Customer Demographics.csv')\n",
    "customer_investment_snapshot = pd.read_csv('Customer Data/Customer Investment Snapshot.csv')\n",
    "customer_portfolio_snapshot = pd.read_csv('Customer Data/Customer Portfolio Snapshot.csv')\n",
    "\n",
    "dataframe1 = pd.merge(customer_attrition_status,\n",
    "                      customer_demographics[['CustomerId','Surname',\n",
    "                      'Geography','Gender','Age']],on='CustomerId')\n",
    "dataframe2 = pd.merge(dataframe1,customer_investment_snapshot[[\n",
    "    'CustomerId','Tenure','CreditScore','EstimatedSalary','Balance']],on='CustomerId')\n",
    "dataframe3 = pd.merge(dataframe2,customer_portfolio_snapshot[[\n",
    "    'CustomerId','NumOfProducts','HasChckng','IsActiveMember']],on='CustomerId')\n",
    "dataframe4=dataframe3.drop_duplicates()\n",
    "convertdict = {'RowNumber':int,'CustomerId':int,'Surname':'string',\n",
    "               'CreditScore':int,'Geography':'string',\n",
    "               'Gender':'string','Age':int,'Tenure':int,'Balance':float,\n",
    "               'NumOfProducts':int,'HasChckng':int,'IsActiveMember':int,\n",
    "               'EstimatedSalary':float,'Exited':int}\n",
    "dataframe5 = dataframe4[['RowNumber','CustomerId','Surname','CreditScore',\n",
    "                         'Geography','Gender','Age','Tenure','Balance',\n",
    "                         'NumOfProducts','HasChckng','IsActiveMember',\n",
    "                         'EstimatedSalary','Exited']]\n",
    "\n",
    "dataframe5['Balance']=dataframe5['Balance'].fillna(dataframe5['Balance'].mean())\n",
    "dataframe5['CreditScore']=dataframe5['CreditScore'].fillna(dataframe5['CreditScore'].mean())\n",
    "\n",
    "# dataframe6=dataframe5.interpolate(method='linear',limit_direction='forward')\n",
    "# dataframe6.isnull().sum()\n",
    "dataframe6=dataframe5.astype(convertdict)\n",
    "dataframe6.nunique()\n",
    "sns.countplot(data=dataframe6)"
   ]
  }
 ],
 "metadata": {
  "kernelspec": {
   "display_name": "Python 3 (ipykernel)",
   "language": "python",
   "name": "python3"
  },
  "language_info": {
   "codemirror_mode": {
    "name": "ipython",
    "version": 3
   },
   "file_extension": ".py",
   "mimetype": "text/x-python",
   "name": "python",
   "nbconvert_exporter": "python",
   "pygments_lexer": "ipython3",
   "version": "3.9.0"
  }
 },
 "nbformat": 4,
 "nbformat_minor": 1
}
