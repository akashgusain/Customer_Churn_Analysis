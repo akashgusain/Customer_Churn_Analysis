{
 "cells": [
  {
   "cell_type": "code",
   "execution_count": 62,
   "metadata": {
    "collapsed": true
   },
   "outputs": [
    {
     "data": {
      "text/plain": "                 CustomerId  CreditScore       Age    Tenure   Balance  \\\nCustomerId         1.000000     0.005658  0.008627 -0.015261 -0.006942   \nCreditScore        0.005658     1.000000 -0.004117 -0.001961 -0.003107   \nAge                0.008627    -0.004117  1.000000 -0.009025 -0.010111   \nTenure            -0.015261    -0.001961 -0.009025  1.000000  0.004487   \nBalance           -0.006942    -0.003107 -0.010111  0.004487  1.000000   \nNumOfProducts      0.016972     0.011966 -0.028665  0.017197 -0.000814   \nHasChckng         -0.014025    -0.006043 -0.013279  0.023078  0.005403   \nIsActiveMember     0.001665     0.025732  0.082351 -0.029180 -0.016314   \nEstimatedSalary    0.015271    -0.002199 -0.009181  0.008055 -0.001480   \nExited            -0.006248    -0.027792  0.280904 -0.012178  0.014595   \n\n                 NumOfProducts  HasChckng  IsActiveMember  EstimatedSalary  \\\nCustomerId            0.016972  -0.014025        0.001665         0.015271   \nCreditScore           0.011966  -0.006043        0.025732        -0.002199   \nAge                  -0.028665  -0.013279        0.082351        -0.009181   \nTenure                0.017197   0.023078       -0.029180         0.008055   \nBalance              -0.000814   0.005403       -0.016314        -0.001480   \nNumOfProducts         1.000000   0.003183        0.009612         0.014204   \nHasChckng             0.003183   1.000000       -0.011866        -0.009933   \nIsActiveMember        0.009612  -0.011866        1.000000        -0.011421   \nEstimatedSalary       0.014204  -0.009933       -0.011421         1.000000   \nExited               -0.047820  -0.007138       -0.156128         0.012097   \n\n                   Exited  \nCustomerId      -0.006248  \nCreditScore     -0.027792  \nAge              0.280904  \nTenure          -0.012178  \nBalance          0.014595  \nNumOfProducts   -0.047820  \nHasChckng       -0.007138  \nIsActiveMember  -0.156128  \nEstimatedSalary  0.012097  \nExited           1.000000  ",
      "text/html": "<div>\n<style scoped>\n    .dataframe tbody tr th:only-of-type {\n        vertical-align: middle;\n    }\n\n    .dataframe tbody tr th {\n        vertical-align: top;\n    }\n\n    .dataframe thead th {\n        text-align: right;\n    }\n</style>\n<table border=\"1\" class=\"dataframe\">\n  <thead>\n    <tr style=\"text-align: right;\">\n      <th></th>\n      <th>CustomerId</th>\n      <th>CreditScore</th>\n      <th>Age</th>\n      <th>Tenure</th>\n      <th>Balance</th>\n      <th>NumOfProducts</th>\n      <th>HasChckng</th>\n      <th>IsActiveMember</th>\n      <th>EstimatedSalary</th>\n      <th>Exited</th>\n    </tr>\n  </thead>\n  <tbody>\n    <tr>\n      <th>CustomerId</th>\n      <td>1.000000</td>\n      <td>0.005658</td>\n      <td>0.008627</td>\n      <td>-0.015261</td>\n      <td>-0.006942</td>\n      <td>0.016972</td>\n      <td>-0.014025</td>\n      <td>0.001665</td>\n      <td>0.015271</td>\n      <td>-0.006248</td>\n    </tr>\n    <tr>\n      <th>CreditScore</th>\n      <td>0.005658</td>\n      <td>1.000000</td>\n      <td>-0.004117</td>\n      <td>-0.001961</td>\n      <td>-0.003107</td>\n      <td>0.011966</td>\n      <td>-0.006043</td>\n      <td>0.025732</td>\n      <td>-0.002199</td>\n      <td>-0.027792</td>\n    </tr>\n    <tr>\n      <th>Age</th>\n      <td>0.008627</td>\n      <td>-0.004117</td>\n      <td>1.000000</td>\n      <td>-0.009025</td>\n      <td>-0.010111</td>\n      <td>-0.028665</td>\n      <td>-0.013279</td>\n      <td>0.082351</td>\n      <td>-0.009181</td>\n      <td>0.280904</td>\n    </tr>\n    <tr>\n      <th>Tenure</th>\n      <td>-0.015261</td>\n      <td>-0.001961</td>\n      <td>-0.009025</td>\n      <td>1.000000</td>\n      <td>0.004487</td>\n      <td>0.017197</td>\n      <td>0.023078</td>\n      <td>-0.029180</td>\n      <td>0.008055</td>\n      <td>-0.012178</td>\n    </tr>\n    <tr>\n      <th>Balance</th>\n      <td>-0.006942</td>\n      <td>-0.003107</td>\n      <td>-0.010111</td>\n      <td>0.004487</td>\n      <td>1.000000</td>\n      <td>-0.000814</td>\n      <td>0.005403</td>\n      <td>-0.016314</td>\n      <td>-0.001480</td>\n      <td>0.014595</td>\n    </tr>\n    <tr>\n      <th>NumOfProducts</th>\n      <td>0.016972</td>\n      <td>0.011966</td>\n      <td>-0.028665</td>\n      <td>0.017197</td>\n      <td>-0.000814</td>\n      <td>1.000000</td>\n      <td>0.003183</td>\n      <td>0.009612</td>\n      <td>0.014204</td>\n      <td>-0.047820</td>\n    </tr>\n    <tr>\n      <th>HasChckng</th>\n      <td>-0.014025</td>\n      <td>-0.006043</td>\n      <td>-0.013279</td>\n      <td>0.023078</td>\n      <td>0.005403</td>\n      <td>0.003183</td>\n      <td>1.000000</td>\n      <td>-0.011866</td>\n      <td>-0.009933</td>\n      <td>-0.007138</td>\n    </tr>\n    <tr>\n      <th>IsActiveMember</th>\n      <td>0.001665</td>\n      <td>0.025732</td>\n      <td>0.082351</td>\n      <td>-0.029180</td>\n      <td>-0.016314</td>\n      <td>0.009612</td>\n      <td>-0.011866</td>\n      <td>1.000000</td>\n      <td>-0.011421</td>\n      <td>-0.156128</td>\n    </tr>\n    <tr>\n      <th>EstimatedSalary</th>\n      <td>0.015271</td>\n      <td>-0.002199</td>\n      <td>-0.009181</td>\n      <td>0.008055</td>\n      <td>-0.001480</td>\n      <td>0.014204</td>\n      <td>-0.009933</td>\n      <td>-0.011421</td>\n      <td>1.000000</td>\n      <td>0.012097</td>\n    </tr>\n    <tr>\n      <th>Exited</th>\n      <td>-0.006248</td>\n      <td>-0.027792</td>\n      <td>0.280904</td>\n      <td>-0.012178</td>\n      <td>0.014595</td>\n      <td>-0.047820</td>\n      <td>-0.007138</td>\n      <td>-0.156128</td>\n      <td>0.012097</td>\n      <td>1.000000</td>\n    </tr>\n  </tbody>\n</table>\n</div>"
     },
     "execution_count": 62,
     "metadata": {},
     "output_type": "execute_result"
    }
   ],
   "source": [
    "import pandas as pd\n",
    "import seaborn as sns\n",
    "from matplotlib import pyplot as plt\n",
    "\n",
    "customer_attrition_status = pd.read_csv('Customer Data/Customer Attrition Status.csv')\n",
    "customer_demographics = pd.read_csv('Customer Data/Customer Demographics.csv')\n",
    "customer_investment_snapshot = pd.read_csv('Customer Data/Customer Investment Snapshot.csv')\n",
    "customer_portfolio_snapshot = pd.read_csv('Customer Data/Customer Portfolio Snapshot.csv')\n",
    "\n",
    "dataframe1 = pd.merge(customer_attrition_status,\n",
    "                      customer_demographics[['CustomerId','Surname',\n",
    "                      'Geography','Gender','Age']],on='CustomerId')\n",
    "dataframe2 = pd.merge(dataframe1,customer_investment_snapshot[[\n",
    "    'CustomerId','Tenure','CreditScore','EstimatedSalary','Balance']],on='CustomerId')\n",
    "dataframe3 = pd.merge(dataframe2,customer_portfolio_snapshot[[\n",
    "    'CustomerId','NumOfProducts','HasChckng','IsActiveMember']],on='CustomerId')\n",
    "dataframe4=dataframe3.drop_duplicates()\n",
    "convertdict = {'RowNumber':int,'CustomerId':int,'Surname':'string',\n",
    "               'CreditScore':int,'Geography':'string',\n",
    "               'Gender':'string','Age':int,'Tenure':int,'Balance':float,\n",
    "               'NumOfProducts':int,'HasChckng':int,'IsActiveMember':int,\n",
    "               'EstimatedSalary':float,'Exited':int}\n",
    "dataframe5 = dataframe4[['RowNumber','CustomerId','Surname','CreditScore',\n",
    "                         'Geography','Gender','Age','Tenure','Balance',\n",
    "                         'NumOfProducts','HasChckng','IsActiveMember',\n",
    "                         'EstimatedSalary','Exited']]\n",
    "\n",
    "dataframe5['Balance']=dataframe5['Balance'].fillna(dataframe5['Balance'].mean())\n",
    "dataframe5['CreditScore']=dataframe5['CreditScore'].fillna(dataframe5['CreditScore'].mean())\n",
    "\n",
    "dataframe6=dataframe5.astype(convertdict)\n",
    "dataframe6.set_index('RowNumber',inplace=True)\n",
    "\n",
    "### how many users are from different zones ####\n",
    "dataframe7=dataframe6.groupby(['Geography']).CustomerId.count().reset_index(name=\"count\")\n",
    "explode = (0.1, 0, 0)\n",
    "fig1, ax1 = plt.subplots()\n",
    "ax1.pie(dataframe7['count'],explode=explode,  labels=dataframe7['Geography'], autopct='%1.1f%%',\n",
    "        shadow=True, startangle=90)\n",
    "ax1.axis('equal')\n",
    "plt.show()\n",
    "dataframe7.plot.pie(y=\"count\",subplots=True,figsize=(11, 6))\n",
    "\n",
    "### how many users exited from different geography ###\n",
    "dataframe8=dataframe6[['Geography','Exited','Gender']].groupby(['Geography','Exited','Gender']).size().reset_index(name=\"count\")\n",
    "sns.set_theme(style=\"whitegrid\")\n",
    "sns.catplot(x=\"Geography\",y=\"count\",hue=\"Exited\",kind=\"bar\",data=dataframe8)\n",
    "sns.catplot(x=\"Gender\",y=\"count\",hue=\"Exited\",kind=\"bar\",data=dataframe8)\n",
    "\n",
    "\n",
    "\n",
    "### how many male and female exited from different category ###\n",
    "sns.relplot(data=dataframe8,x='Geography',y='count',hue='Exited',col=\"Gender\")\n",
    "\n",
    "\n",
    "\n",
    "### number of products available gender wise and geography wise\n",
    "dataframe9=dataframe6.groupby(['Geography','Gender']).NumOfProducts.size().reset_index(name=\"count\")\n",
    "sns.relplot(data=dataframe9,x='Geography',y='count',hue='Gender',col=\"Gender\")\n",
    "\n",
    "### How many of are active and Non Active Members in the service which are not exited ###\n",
    "dataframe10=dataframe6[(dataframe6.Exited==1)].groupby(['IsActiveMember']).CustomerId.count().reset_index(name=\"count\")\n",
    "sns.barplot(data=dataframe10,x='IsActiveMember',y='count',hue=\"IsActiveMember\")\n",
    "### write dataframe data to csv file ###\n",
    "dataframe6.to_csv('file1.csv')\n",
    "\n",
    "### Generate Heatmap ###\n",
    "sns.heatmap(dataframe6.corr())\n",
    "\n",
    "\n"
   ]
  }
 ],
 "metadata": {
  "kernelspec": {
   "display_name": "Python 3 (ipykernel)",
   "language": "python",
   "name": "python3"
  },
  "language_info": {
   "codemirror_mode": {
    "name": "ipython",
    "version": 3
   },
   "file_extension": ".py",
   "mimetype": "text/x-python",
   "name": "python",
   "nbconvert_exporter": "python",
   "pygments_lexer": "ipython3",
   "version": "3.9.0"
  }
 },
 "nbformat": 4,
 "nbformat_minor": 1
}